{
 "cells": [
  {
   "cell_type": "markdown",
   "metadata": {},
   "source": [
    "# Python Assignment 4"
   ]
  },
  {
   "cell_type": "markdown",
   "metadata": {},
   "source": [
    "### 1.1 Write a Python Program(with class concepts) to find the area of the triangle using the below formula.\n",
    "### area = (s*(s-a)*(s-b)*(s-c)) ** 0.5"
   ]
  },
  {
   "cell_type": "code",
   "execution_count": 9,
   "metadata": {},
   "outputs": [
    {
     "name": "stdout",
     "output_type": "stream",
     "text": [
      "A:25\n",
      "B:55\n",
      "C:35\n",
      "The Area of Triangle is :  324.2178087335734\n"
     ]
    }
   ],
   "source": [
    "class aot:\n",
    "    def __init__(self,a,b,c):\n",
    "        self.a = float(a)\n",
    "        self.b = float(b)\n",
    "        self.c = float(c)\n",
    "a = int(input(\"A:\"))\n",
    "b = int(input(\"B:\"))\n",
    "c = int(input(\"C:\"))\n",
    "        \n",
    "class A(aot):\n",
    "    def __init__(self,a,b,c):\n",
    "        super().__init__(a,b,c)\n",
    "        \n",
    "    def area(self):\n",
    "        s = (a + b + c)/2\n",
    "        return (s*(s-a)*(s-b)*(s-c)) ** 0.5\n",
    "\n",
    "p =A(a,b,c)\n",
    "print(\"The Area of Triangle is : \",p.area())"
   ]
  },
  {
   "cell_type": "markdown",
   "metadata": {},
   "source": [
    "### 1.2 Write a function filter_long_words() that takes a list of words and an integer n and returns the list of words that are longer than n."
   ]
  },
  {
   "cell_type": "code",
   "execution_count": 28,
   "metadata": {},
   "outputs": [
    {
     "name": "stdout",
     "output_type": "stream",
     "text": [
      "Filtered List is :  ['jaimin', 'tailor', 'abc', 'jems']\n"
     ]
    }
   ],
   "source": [
    "def filter_long_words(words,num):\n",
    "    for i in range(len(words)):\n",
    "        if len(words[i])>num:\n",
    "            result.append(words[i])\n",
    "    return result\n",
    "    \n",
    "words=['jaimin','tailor','ab','abc',\"jems\",'a']\n",
    "num = 2\n",
    "result = []\n",
    "filter_long_words(words,num)\n",
    "print(\"Filtered List is : \",result)"
   ]
  },
  {
   "cell_type": "markdown",
   "metadata": {},
   "source": [
    "### 2.1 Write a Python program using function concept that maps list of words into a list of integers representing the lengths of the corresponding words.\n",
    "### Hint: If a list [ ab,cde,erty] is passed on to the python function output should come as [2,3,4] .Here 2,3 and 4 are the lengths of the words in the list."
   ]
  },
  {
   "cell_type": "code",
   "execution_count": 35,
   "metadata": {},
   "outputs": [
    {
     "name": "stdout",
     "output_type": "stream",
     "text": [
      "Length of string is :  [5, 6, 2, 3]\n"
     ]
    }
   ],
   "source": [
    "def lenght_of_words(words):\n",
    "    for i in range(len(words)):\n",
    "        p.append(len(words[i]))\n",
    "    return p\n",
    "\n",
    "words  =['jaimn','Tailor','ab','abc']\n",
    "p = []\n",
    "lenght_of_words(words)\n",
    "print(\"Length of string is : \",p)"
   ]
  },
  {
   "cell_type": "markdown",
   "metadata": {},
   "source": [
    "### 2.2 Write a Python function which takes a character (i.e. a string of length 1) and returns True if it is a vowel, False otherwise."
   ]
  },
  {
   "cell_type": "code",
   "execution_count": 63,
   "metadata": {},
   "outputs": [
    {
     "name": "stdout",
     "output_type": "stream",
     "text": [
      "Enter a character of length of 1 : u\n",
      "True u\n"
     ]
    }
   ],
   "source": [
    "def vovels(l):\n",
    "    for i in l:\n",
    "        if(i=='a' or i=='e' or i=='i' or i=='o' or i=='u' or i=='A' or i=='E' or i=='I' or i=='O' or i=='U'):\n",
    "            print(True,i)\n",
    "        else:\n",
    "            print(False)\n",
    "\n",
    "l = input(\"Enter a character of length of 1 : \")\n",
    "vovels(l)"
   ]
  },
  {
   "cell_type": "markdown",
   "metadata": {},
   "source": [
    "### ------End Of Assignment------"
   ]
  }
 ],
 "metadata": {
  "kernelspec": {
   "display_name": "Python 3",
   "language": "python",
   "name": "python3"
  },
  "language_info": {
   "codemirror_mode": {
    "name": "ipython",
    "version": 3
   },
   "file_extension": ".py",
   "mimetype": "text/x-python",
   "name": "python",
   "nbconvert_exporter": "python",
   "pygments_lexer": "ipython3",
   "version": "3.8.8"
  }
 },
 "nbformat": 4,
 "nbformat_minor": 4
}
