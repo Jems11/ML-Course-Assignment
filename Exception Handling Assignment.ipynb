{
 "cells": [
  {
   "cell_type": "markdown",
   "id": "ed22c72b",
   "metadata": {},
   "source": [
    "# Exception Handling Assignment\n"
   ]
  },
  {
   "cell_type": "markdown",
   "id": "a1f3f05f",
   "metadata": {},
   "source": [
    "### 1. Write a function to compute 5/0 and use try/except to catch the exceptions."
   ]
  },
  {
   "cell_type": "code",
   "execution_count": 7,
   "id": "5863eb8b",
   "metadata": {},
   "outputs": [],
   "source": [
    "def ex(a,b):\n",
    "    try:\n",
    "        c = a/b\n",
    "        print(c)\n",
    "    except Exception as e:\n",
    "        print(\"There was some issue like \",e)\n"
   ]
  },
  {
   "cell_type": "code",
   "execution_count": 9,
   "id": "081a7b76",
   "metadata": {},
   "outputs": [
    {
     "name": "stdout",
     "output_type": "stream",
     "text": [
      "5\n",
      "0\n",
      "There was some issue like  division by zero\n"
     ]
    }
   ],
   "source": [
    "a = int(input())\n",
    "b = int(input())\n",
    "ex(a,b)"
   ]
  },
  {
   "cell_type": "markdown",
   "id": "fd2cceff",
   "metadata": {},
   "source": [
    "### 2. Implement a Python program to generate all sentences where subject is in [\"Americans\", \"Indians\"] and verb is in [\"Play\", \"watch\"] and the object is in [\"Baseball\",\"cricket\"].\n",
    "- Hint: Subject,Verb and Object should be declared in the program as shown below.\n",
    "- subjects=[\"Americans \",\"Indians\"]\n",
    "- verbs=[\"play\",\"watch\"]\n",
    "- objects=[\"Baseball\",\"Cricket\"]\n",
    "#### Output should come as below:\n",
    "- Americans play Baseball.\n",
    "- Americans play Cricket.\n",
    "- Americans watch Baseball.\n",
    "- Americans watch Cricket.\n",
    "- Indians play Baseball.\n",
    "- Indians play Cricket.\n",
    "- Indians watch Baseball.\n",
    "- Indians watch Cricket."
   ]
  },
  {
   "cell_type": "code",
   "execution_count": 10,
   "id": "8b9df328",
   "metadata": {},
   "outputs": [],
   "source": [
    "s=[\"Americans \",\"Indians\"]\n",
    "v=[\"play\",\"watch\"]\n",
    "o=[\"Baseball\",\"Cricket\"]"
   ]
  },
  {
   "cell_type": "code",
   "execution_count": 11,
   "id": "129664b3",
   "metadata": {},
   "outputs": [
    {
     "name": "stdout",
     "output_type": "stream",
     "text": [
      "Americans  play Baseball\n",
      "Americans  play Cricket\n",
      "Americans  watch Baseball\n",
      "Americans  watch Cricket\n",
      "Indians play Baseball\n",
      "Indians play Cricket\n",
      "Indians watch Baseball\n",
      "Indians watch Cricket\n"
     ]
    }
   ],
   "source": [
    "for i in s:\n",
    "    for j in v:\n",
    "        for z in o:\n",
    "            print(i,j,z)"
   ]
  },
  {
   "cell_type": "markdown",
   "id": "f6514c81",
   "metadata": {},
   "source": [
    "## ------End Of assignment------"
   ]
  }
 ],
 "metadata": {
  "kernelspec": {
   "display_name": "Python 3",
   "language": "python",
   "name": "python3"
  },
  "language_info": {
   "codemirror_mode": {
    "name": "ipython",
    "version": 3
   },
   "file_extension": ".py",
   "mimetype": "text/x-python",
   "name": "python",
   "nbconvert_exporter": "python",
   "pygments_lexer": "ipython3",
   "version": "3.8.8"
  }
 },
 "nbformat": 4,
 "nbformat_minor": 5
}
